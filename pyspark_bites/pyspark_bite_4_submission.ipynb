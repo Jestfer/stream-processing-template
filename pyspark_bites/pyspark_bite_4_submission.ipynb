{
 "cells": [
  {
   "cell_type": "code",
   "execution_count": 1,
   "metadata": {},
   "outputs": [
    {
     "name": "stderr",
     "output_type": "stream",
     "text": [
      "Setting default log level to \"WARN\".\n",
      "To adjust logging level use sc.setLogLevel(newLevel). For SparkR, use setLogLevel(newLevel).\n",
      "23/12/11 23:02:56 WARN NativeCodeLoader: Unable to load native-hadoop library for your platform... using builtin-java classes where applicable\n",
      "23/12/11 23:02:59 WARN Utils: Service 'SparkUI' could not bind on port 4040. Attempting port 4041.\n",
      "/home/ec2-user/pyspark_streaming/lib64/python3.7/site-packages/pyspark/context.py:317: FutureWarning: Python 3.7 support is deprecated in Spark 3.4.\n",
      "  warnings.warn(\"Python 3.7 support is deprecated in Spark 3.4.\", FutureWarning)\n",
      "                                                                                \r"
     ]
    },
    {
     "name": "stdout",
     "output_type": "stream",
     "text": [
      "+--------------------+--------------------+------------+-------------+--------------+------------+--------------------+-----------------+----------+------------------+---------------+-------------------+----------------+----------------+---+----+-----+--------------+---------+--------+--------------+------------------+----------+-------------+\n",
      "|          track_name|      artist(s)_name|artist_count|released_year|released_month|released_day|in_spotify_playlists|in_spotify_charts|   streams|in_apple_playlists|in_apple_charts|in_deezer_playlists|in_deezer_charts|in_shazam_charts|bpm| key| mode|danceability_%|valence_%|energy_%|acousticness_%|instrumentalness_%|liveness_%|speechiness_%|\n",
      "+--------------------+--------------------+------------+-------------+--------------+------------+--------------------+-----------------+----------+------------------+---------------+-------------------+----------------+----------------+---+----+-----+--------------+---------+--------+--------------+------------------+----------+-------------+\n",
      "|Seven (feat. Latt...|    Latto, Jung Kook|           2|         2023|             7|          14|                 553|              147| 141381703|                43|            263|                 45|              10|             826|125|   B|Major|            80|       89|      83|            31|                 0|         8|            4|\n",
      "|                LALA|         Myke Towers|           1|         2023|             3|          23|                1474|               48| 133716286|                48|            126|                 58|              14|             382| 92|  C#|Major|            71|       61|      74|             7|                 0|        10|            4|\n",
      "|             vampire|      Olivia Rodrigo|           1|         2023|             6|          30|                1397|              113| 140003974|                94|            207|                 91|              14|             949|138|   F|Major|            51|       32|      53|            17|                 0|        31|            6|\n",
      "|        Cruel Summer|        Taylor Swift|           1|         2019|             8|          23|                7858|              100| 800840817|               116|            207|                125|              12|             548|170|   A|Major|            55|       58|      72|            11|                 0|        11|           15|\n",
      "|      WHERE SHE GOES|           Bad Bunny|           1|         2023|             5|          18|                3133|               50| 303236322|                84|            133|                 87|              15|             425|144|   A|Minor|            65|       23|      80|            14|                63|        11|            6|\n",
      "|            Sprinter|   Dave, Central Cee|           2|         2023|             6|           1|                2186|               91| 183706234|                67|            213|                 88|              17|             946|141|  C#|Major|            92|       66|      58|            19|                 0|         8|           24|\n",
      "|     Ella Baila Sola|Eslabon Armado, P...|           2|         2023|             3|          16|                3090|               50| 725980112|                34|            222|                 43|              13|             418|148|   F|Minor|            67|       83|      76|            48|                 0|         8|            3|\n",
      "|            Columbia|             Quevedo|           1|         2023|             7|           7|                 714|               43|  58149378|                25|             89|                 30|              13|             194|100|   F|Major|            67|       26|      71|            37|                 0|        11|            4|\n",
      "|            fukumean|               Gunna|           1|         2023|             5|          15|                1096|               83|  95217315|                60|            210|                 48|              11|             953|130|  C#|Minor|            85|       22|      62|            12|                 0|        28|            9|\n",
      "|     La Bebe - Remix|Peso Pluma, Yng L...|           2|         2023|             3|          17|                2953|               44| 553634067|                49|            110|                 66|              13|             339|170|   D|Minor|            81|       56|      48|            21|                 0|         8|           33|\n",
      "|           un x100to|Bad Bunny, Grupo ...|           2|         2023|             4|          17|                2876|               40| 505671438|                41|            205|                 54|              12|             251| 83|  F#|Minor|            57|       56|      72|            23|                 0|        27|            5|\n",
      "|           Super Shy|            NewJeans|           1|         2023|             7|           7|                 422|               55|  58255150|                37|            202|                 21|               5|             168|150|   F|Minor|            78|       52|      82|            18|                 0|        15|            7|\n",
      "|             Flowers|         Miley Cyrus|           1|         2023|             1|          12|               12211|              115|1316855716|               300|            215|                745|              58|           1,021|118|null|Major|            71|       65|      68|             6|                 0|         3|            7|\n",
      "|            Daylight|       David Kushner|           1|         2023|             4|          14|                3528|               98| 387570742|                80|            156|                182|              24|           1,281|130|   D|Minor|            51|       32|      43|            83|                 0|         9|            3|\n",
      "|           As It Was|        Harry Styles|           1|         2022|             3|          31|               23575|              130|2513188493|               403|            198|                863|              46|            null|174|  F#|Minor|            52|       66|      73|            34|                 0|        31|            6|\n",
      "|           Kill Bill|                 SZA|           1|         2022|            12|           8|                8109|               77|1163093654|               183|            162|                161|              12|             187| 89|  G#|Major|            64|       43|      73|             5|                17|        16|            4|\n",
      "|   Cupid - Twin Ver.|         Fifty Fifty|           1|         2023|             2|          24|                2942|               77| 496795686|                91|            212|                 78|               6|               0|120|   B|Minor|            78|       76|      59|            43|                 0|        34|            3|\n",
      "|\"What Was I Made ...|       Billie Eilish|           1|         2023|             7|          13|                 873|              104|  30546883|                80|            227|                 95|              24|           1,173| 78|null|Major|            44|       14|       9|            96|                 0|        10|            3|\n",
      "|          Classy 101|    Feid, Young Miko|           2|         2023|             3|          31|                2610|               40| 335222234|                43|            100|                 54|              14|             187|100|   B|Major|            86|       67|      66|            14|                 0|        12|           16|\n",
      "|          Like Crazy|               Jimin|           1|         2023|             3|          24|                 596|               68| 363369738|                 8|            104|                 23|               2|              29|120|   G|Major|            63|       36|      73|             0|                 0|        36|            4|\n",
      "+--------------------+--------------------+------------+-------------+--------------+------------+--------------------+-----------------+----------+------------------+---------------+-------------------+----------------+----------------+---+----+-----+--------------+---------+--------+--------------+------------------+----------+-------------+\n",
      "only showing top 20 rows\n",
      "\n"
     ]
    }
   ],
   "source": [
    "from pyspark.sql import SparkSession\n",
    "\n",
    "spark = SparkSession.builder.appName(\"SpotifySongs\").getOrCreate()\n",
    "\n",
    "df = spark.read.csv(\"stream-processing-template/assets/data/spotify-2023.csv\", header=True, inferSchema=True)\n",
    "df.show()"
   ]
  },
  {
   "cell_type": "code",
   "execution_count": 4,
   "metadata": {},
   "outputs": [
    {
     "name": "stdout",
     "output_type": "stream",
     "text": [
      "+--------------------+------------------+------------+-------------+--------------+------------+--------------------+-----------------+--------+------------------+---------------+-------------------+----------------+----------------+---+---+-----+--------------+---------+--------+--------------+------------------+----------+-------------+\n",
      "|          track_name|    artist(s)_name|artist_count|released_year|released_month|released_day|in_spotify_playlists|in_spotify_charts| streams|in_apple_playlists|in_apple_charts|in_deezer_playlists|in_deezer_charts|in_shazam_charts|bpm|key| mode|danceability_%|valence_%|energy_%|acousticness_%|instrumentalness_%|liveness_%|speechiness_%|\n",
      "+--------------------+------------------+------------+-------------+--------------+------------+--------------------+-----------------+--------+------------------+---------------+-------------------+----------------+----------------+---+---+-----+--------------+---------+--------+--------------+------------------+----------+-------------+\n",
      "|           Queencard|          (G)I-DLE|           1|         2023|             5|          15|                 451|               33|96273746|                10|            126|                  7|               0|             148|130|  E|Minor|            82|       69|      83|             3|                 0|        27|            5|\n",
      "|Double Fantasy (w...|The Weeknd, Future|           2|         2023|             4|          21|                1169|                0|96180277|                36|             65|                 28|               0|               0|119|  A|Minor|            60|       10|      57|             1|                 0|        50|            3|\n",
      "|People Pt.2 (feat...|       IU, Agust D|           2|         2023|             4|           7|                 209|                4|95816024|                 4|             45|                 11|               2|              24| 89|  G|Minor|            73|       44|      57|            39|                 0|        32|            6|\n",
      "|   Everything I Love|     Morgan Wallen|           1|         2023|             1|          31|                 579|                0|95623148|                11|             54|                  0|               0|             103|104| G#|Major|            56|       72|      85|             0|                 0|        15|            3|\n",
      "|            fukumean|             Gunna|           1|         2023|             5|          15|                1096|               83|95217315|                60|            210|                 48|              11|             953|130| C#|Minor|            85|       22|      62|            12|                 0|        28|            9|\n",
      "+--------------------+------------------+------------+-------------+--------------+------------+--------------------+-----------------+--------+------------------+---------------+-------------------+----------------+----------------+---+---+-----+--------------+---------+--------+--------------+------------------+----------+-------------+\n",
      "\n"
     ]
    }
   ],
   "source": [
    "from pyspark.sql.functions import col\n",
    "\n",
    "# Filter for the year 2023 and order by streams\n",
    "top_5_streamed_2023 = df.filter(col(\"released_year\") == 2023)\\\n",
    "                        .orderBy(col(\"streams\").desc())\\\n",
    "                        .limit(5)\n",
    "top_5_streamed_2023.show()\n",
    "\n",
    "# ANOTHER WAY OF DOING THIS WOULD BE... (without `col`)\n",
    "# Filter for the year 2023 and order by streams\n",
    "# top_5_streamed_2023 = df.filter(df.released_year == 2023)\\\n",
    "#                         .orderBy(df.streams.desc())\\\n",
    "#                         .limit(5)\n",
    "# top_5_streamed_2023.show()\n"
   ]
  },
  {
   "cell_type": "code",
   "execution_count": 5,
   "metadata": {},
   "outputs": [
    {
     "name": "stdout",
     "output_type": "stream",
     "text": [
      "+--------------------+-----------------+------------+-------------+--------------+------------+--------------------+-----------------+---------+------------------+---------------+-------------------+----------------+----------------+---+---+-----+--------------+---------+--------+--------------+------------------+----------+-------------+----------------+\n",
      "|          track_name|   artist(s)_name|artist_count|released_year|released_month|released_day|in_spotify_playlists|in_spotify_charts|  streams|in_apple_playlists|in_apple_charts|in_deezer_playlists|in_deezer_charts|in_shazam_charts|bpm|key| mode|danceability_%|valence_%|energy_%|acousticness_%|instrumentalness_%|liveness_%|speechiness_%|combined_ranking|\n",
      "+--------------------+-----------------+------------+-------------+--------------+------------+--------------------+-----------------+---------+------------------+---------------+-------------------+----------------+----------------+---+---+-----+--------------+---------+--------+--------------+------------------+----------+-------------+----------------+\n",
      "|             vampire|   Olivia Rodrigo|           1|         2023|             6|          30|                1397|              113|140003974|                94|            207|                 91|              14|             949|138|  F|Major|            51|       32|      53|            17|                 0|        31|            6|          1283.0|\n",
      "|            Sprinter|Dave, Central Cee|           2|         2023|             6|           1|                2186|               91|183706234|                67|            213|                 88|              17|             946|141| C#|Major|            92|       66|      58|            19|                 0|         8|           24|          1267.0|\n",
      "|            fukumean|            Gunna|           1|         2023|             5|          15|                1096|               83| 95217315|                60|            210|                 48|              11|             953|130| C#|Minor|            85|       22|      62|            12|                 0|        28|            9|          1257.0|\n",
      "|Seven (feat. Latt...| Latto, Jung Kook|           2|         2023|             7|          14|                 553|              147|141381703|                43|            263|                 45|              10|             826|125|  B|Major|            80|       89|      83|            31|                 0|         8|            4|          1246.0|\n",
      "|              Tattoo|           Loreen|           1|         2023|             2|          25|                2988|               59|201660859|                74|            102|                145|              18|             925|150| D#|Minor|            55|       30|      78|            24|                 0|        12|            8|          1104.0|\n",
      "+--------------------+-----------------+------------+-------------+--------------+------------+--------------------+-----------------+---------+------------------+---------------+-------------------+----------------+----------------+---+---+-----+--------------+---------+--------+--------------+------------------+----------+-------------+----------------+\n",
      "\n"
     ]
    }
   ],
   "source": [
    "# Assuming 'ranking' is a combination of charts across platforms\n",
    "ranking_cols = [\"in_spotify_charts\", \"in_apple_charts\", \"in_deezer_charts\", \"in_shazam_charts\"]\n",
    "\n",
    "# Calculate a combined ranking score and find top 5\n",
    "df_with_ranking = df.withColumn(\"combined_ranking\", sum(df[col] for col in ranking_cols))\n",
    "top_5_ranking_tracks = df_with_ranking.orderBy(col(\"combined_ranking\").desc()).limit(5)\n",
    "top_5_ranking_tracks.show()"
   ]
  },
  {
   "cell_type": "markdown",
   "metadata": {},
   "source": [
    "The error you're encountering is because the intersect method in PySpark requires both DataFrames to have the same number of columns and the same column names. In your code, top_5_streamed_2023 has the original number of columns from df, while top_5_ranking_tracks has an extra column combined_ranking added to it.\n",
    "\n",
    "To find the crossover between the top streamed and top ranking tracks, you should ensure both DataFrames have the same schema. One way to do this is to select only the common columns you're interested in before performing the intersect operation. Assuming the common columns are track_name and artist(s)_name, here's how you can modify your code:\n",
    "\n",
    "By selecting only the common columns (\"track_name\" and \"artist(s)_name\") from both DataFrames, you ensure they have the same schema, allowing the intersect operation to work as expected. This will give you the tracks that are common in both the top 5 streamed and top 5 ranking tracks lists."
   ]
  },
  {
   "cell_type": "code",
   "execution_count": 9,
   "metadata": {},
   "outputs": [
    {
     "name": "stdout",
     "output_type": "stream",
     "text": [
      "+----------+--------------+\n",
      "|track_name|artist(s)_name|\n",
      "+----------+--------------+\n",
      "|  fukumean|         Gunna|\n",
      "+----------+--------------+\n",
      "\n"
     ]
    }
   ],
   "source": [
    "from pyspark.sql.functions import col\n",
    "\n",
    "top_5_streamed_2023 = df.filter(df.released_year == 2023)\\\n",
    "                        .orderBy(df.streams.desc())\\\n",
    "                        .limit(5)\\\n",
    "                        .select(\"track_name\", \"artist(s)_name\")\n",
    "\n",
    "# Assuming 'ranking' is a combination of charts across platforms\n",
    "ranking_cols = [\"in_spotify_charts\", \"in_apple_charts\", \"in_deezer_charts\", \"in_shazam_charts\"]\n",
    "\n",
    "# Calculate a combined ranking score\n",
    "df_with_ranking = df.withColumn(\"combined_ranking\", sum(col(col_name) for col_name in ranking_cols))\n",
    "\n",
    "# Find top 5 based on combined ranking\n",
    "top_5_ranking_tracks = df_with_ranking.orderBy(col(\"combined_ranking\").desc())\\\n",
    "                                      .limit(5)\\\n",
    "                                      .select(\"track_name\", \"artist(s)_name\")\n",
    "\n",
    "# Check for crossover between top streamed and top ranking tracks\n",
    "crossover_tracks = top_5_streamed_2023.intersect(top_5_ranking_tracks)\n",
    "crossover_tracks.show()\n"
   ]
  },
  {
   "cell_type": "markdown",
   "metadata": {},
   "source": [
    "Task 2: Artists with Most Tracks in Spotify Charts"
   ]
  },
  {
   "cell_type": "code",
   "execution_count": 10,
   "metadata": {},
   "outputs": [
    {
     "name": "stdout",
     "output_type": "stream",
     "text": [
      "+--------------+----------------+\n",
      "|artist(s)_name|tracks_in_charts|\n",
      "+--------------+----------------+\n",
      "|  Taylor Swift|              22|\n",
      "|     Bad Bunny|              12|\n",
      "|  Harry Styles|              10|\n",
      "|    The Weeknd|               8|\n",
      "|          Feid|               7|\n",
      "| Morgan Wallen|               6|\n",
      "|    Ed Sheeran|               6|\n",
      "|      NewJeans|               6|\n",
      "|Olivia Rodrigo|               5|\n",
      "|       Karol G|               4|\n",
      "+--------------+----------------+\n",
      "\n"
     ]
    }
   ],
   "source": [
    "from pyspark.sql.functions import count\n",
    "\n",
    "# Group by artist's name and count tracks in Spotify charts\n",
    "artists_spotify_charts = df.filter(col(\"in_spotify_charts\") > 0)\\\n",
    "                           .groupBy(\"artist(s)_name\")\\\n",
    "                           .agg(count(\"track_name\").alias(\"tracks_in_charts\"))\\\n",
    "                           .orderBy(col(\"tracks_in_charts\").desc())\\\n",
    "                           .limit(10)\n",
    "artists_spotify_charts.show()\n"
   ]
  },
  {
   "cell_type": "markdown",
   "metadata": {},
   "source": [
    "Task 3: Filter and Select Attributes of Danceable Tracks"
   ]
  },
  {
   "cell_type": "code",
   "execution_count": 11,
   "metadata": {},
   "outputs": [
    {
     "name": "stdout",
     "output_type": "stream",
     "text": [
      "+--------------------+--------------------+---+--------------+\n",
      "|          track_name|      artist(s)_name|bpm|danceability_%|\n",
      "+--------------------+--------------------+---+--------------+\n",
      "|            Sprinter|   Dave, Central Cee|141|            92|\n",
      "|            fukumean|               Gunna|130|            85|\n",
      "|     La Bebe - Remix|Peso Pluma, Yng L...|170|            81|\n",
      "|          Classy 101|    Feid, Young Miko|100|            86|\n",
      "|Peso Pluma: Bzrp ...|Bizarrap, Peso Pluma|133|            85|\n",
      "|Popular (with Pla...|The Weeknd, Madon...| 99|            85|\n",
      "|        MOJABI GHOST|    Tainy, Bad Bunny|122|            81|\n",
      "|     Los del Espacio|Big One, Duki, Li...|120|            81|\n",
      "|            AMARGURA|             Karol G|107|            92|\n",
      "|          La Bachata|       Manuel Turizo|125|            84|\n",
      "|                 S91|             Karol G|128|            86|\n",
      "|                 T��|dennis, MC Kevin ...|130|            86|\n",
      "|Left and Right (F...|Charlie Puth, BTS...|101|            88|\n",
      "|             Hey Mor|         Ozuna, Feid| 98|            90|\n",
      "|     Me Porto Bonito|Chencho Corleone,...| 92|            91|\n",
      "|              Makeba|                Jain|116|            82|\n",
      "|All My Life (feat...|   J. Cole, Lil Durk|143|            83|\n",
      "|           New Jeans|            NewJeans|134|            81|\n",
      "|            Rara Vez|        Taiu, Milo j|120|            84|\n",
      "|           VAGABUNDO|Sebastian Yatra, ...|127|            82|\n",
      "+--------------------+--------------------+---+--------------+\n",
      "only showing top 20 rows\n",
      "\n"
     ]
    }
   ],
   "source": [
    "# Filter for danceability > 80%\n",
    "danceable_tracks = df.filter(col(\"danceability_%\") > 80)\\\n",
    "                     .select(\"track_name\", \"artist(s)_name\", \"bpm\", \"danceability_%\")\n",
    "danceable_tracks.show()\n"
   ]
  },
  {
   "cell_type": "code",
   "execution_count": 12,
   "metadata": {},
   "outputs": [
    {
     "name": "stdout",
     "output_type": "stream",
     "text": [
      "Correlation between danceability and bpm: 0.016846197056879803\n"
     ]
    }
   ],
   "source": [
    "# Compute correlation between 'danceability_%' and 'bpm'\n",
    "correlation = danceable_tracks.stat.corr(\"danceability_%\", \"bpm\")\n",
    "print(f\"Correlation between danceability and bpm: {correlation}\")\n"
   ]
  }
 ],
 "metadata": {
  "kernelspec": {
   "display_name": "pyspark_streaming",
   "language": "python",
   "name": "python3"
  },
  "language_info": {
   "codemirror_mode": {
    "name": "ipython",
    "version": 3
   },
   "file_extension": ".py",
   "mimetype": "text/x-python",
   "name": "python",
   "nbconvert_exporter": "python",
   "pygments_lexer": "ipython3",
   "version": "3.7.16"
  }
 },
 "nbformat": 4,
 "nbformat_minor": 2
}
